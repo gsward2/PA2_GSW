{
 "cells": [
  {
   "cell_type": "markdown",
   "id": "e0afff97-57fc-4cca-9ce6-8ade0c2ef0fe",
   "metadata": {},
   "source": [
    "# Programming Assignment 2\n",
    "---\n",
    "**Author:** Garrett Ward  \n",
    "**Version:** 1.0  \n",
    "**Semester:** Spring 2024 \n",
    "\n",
    "This *notebook* contains my solution(s) to **Programming Assignment 2**\n"
   ]
  },
  {
   "cell_type": "markdown",
   "id": "20beb957-c125-4324-b6fb-173ea87c93ef",
   "metadata": {},
   "source": [
    "### Problem 1 - Printing Numbers"
   ]
  },
  {
   "cell_type": "code",
   "execution_count": 3,
   "id": "96258f68-9f69-4440-a7a7-a5b1925b7a96",
   "metadata": {
    "tags": []
   },
   "outputs": [
    {
     "name": "stdout",
     "output_type": "stream",
     "text": [
      "0\n",
      "1\n",
      "2\n",
      "3\n",
      "4\n",
      "5\n",
      "6 *\n",
      "7\n",
      "8\n",
      "9 *\n",
      "10\n",
      "11\n",
      "12 *\n",
      "13\n",
      "14\n",
      "15 *\n",
      "16\n",
      "17\n",
      "18 *\n",
      "19\n",
      "20\n",
      "21 *\n",
      "22\n",
      "23\n",
      "24 *\n",
      "25\n",
      "26\n",
      "27 *\n",
      "28\n",
      "29\n",
      "30 *\n",
      "31\n",
      "32\n",
      "33 *\n",
      "34\n",
      "35\n",
      "36 *\n",
      "37\n",
      "38\n",
      "39 *\n",
      "40\n",
      "41\n",
      "42 *\n",
      "43\n",
      "44\n",
      "45 *\n",
      "46\n",
      "47\n",
      "48 *\n",
      "49\n",
      "50\n",
      "51 *\n",
      "52\n",
      "53\n",
      "54 *\n",
      "55\n",
      "56\n",
      "57 *\n",
      "58\n",
      "59\n",
      "60 *\n",
      "61\n",
      "62\n",
      "63 *\n",
      "64\n",
      "65\n",
      "66 *\n",
      "67\n",
      "68\n",
      "69 *\n",
      "70\n",
      "71\n",
      "72 *\n",
      "73\n",
      "74\n",
      "75 *\n",
      "76\n",
      "77\n",
      "78 *\n",
      "79\n",
      "80\n",
      "81 *\n",
      "82\n",
      "83\n",
      "84 *\n",
      "85\n",
      "86\n",
      "87 *\n",
      "88\n",
      "89\n",
      "90 *\n",
      "91\n",
      "92\n",
      "93 *\n",
      "94\n",
      "95\n",
      "96 *\n",
      "97\n",
      "98\n",
      "99 *\n",
      "100\n"
     ]
    }
   ],
   "source": [
    "for number in range(101):\n",
    "    if number%3==0 and number!=0 and number!=3:\n",
    "        print(number, \"*\")\n",
    "    else:\n",
    "        print(number)"
   ]
  },
  {
   "cell_type": "markdown",
   "id": "0cce5c57-eefe-4696-9165-8b8a2da3c634",
   "metadata": {},
   "source": [
    "### Problem 2 - Age Status"
   ]
  },
  {
   "cell_type": "code",
   "execution_count": 2,
   "id": "df51d9ae-48b4-4277-acee-21dad2313a88",
   "metadata": {
    "tags": []
   },
   "outputs": [
    {
     "name": "stdin",
     "output_type": "stream",
     "text": [
      "What is the subject's age? 9\n"
     ]
    },
    {
     "name": "stdout",
     "output_type": "stream",
     "text": [
      "Minor\n"
     ]
    },
    {
     "name": "stdin",
     "output_type": "stream",
     "text": [
      "What is the subject's age? 69\n"
     ]
    },
    {
     "name": "stdout",
     "output_type": "stream",
     "text": [
      "Senior Citizen\n"
     ]
    },
    {
     "name": "stdin",
     "output_type": "stream",
     "text": [
      "What is the subject's age? 56\n"
     ]
    },
    {
     "name": "stdout",
     "output_type": "stream",
     "text": [
      "Adult\n"
     ]
    },
    {
     "name": "stdin",
     "output_type": "stream",
     "text": [
      "What is the subject's age? 0\n"
     ]
    },
    {
     "name": "stdout",
     "output_type": "stream",
     "text": [
      "Done!\n"
     ]
    }
   ],
   "source": [
    "age = int(input(\"What is the subject's age?\"))\n",
    "while age != 0:\n",
    "    if age < 18:\n",
    "        output = \"Minor\"\n",
    "    elif age >= 18 and age < 65:\n",
    "        output = \"Adult\"\n",
    "    else:\n",
    "        output = \"Senior Citizen\"\n",
    "    print(output)\n",
    "    age = int(input(\"What is the subject's age?\"))\n",
    "print(\"Done!\")"
   ]
  },
  {
   "cell_type": "markdown",
   "id": "bf5f3a11-0a89-40a4-842d-b0c51cebd3dc",
   "metadata": {},
   "source": [
    "### Problem 3 - Age Status v2"
   ]
  },
  {
   "cell_type": "code",
   "execution_count": 15,
   "id": "f2f92c9b-b8d5-410c-9a02-836aad550dfe",
   "metadata": {
    "tags": []
   },
   "outputs": [
    {
     "name": "stdout",
     "output_type": "stream",
     "text": [
      "65 : Senior Citizen\n",
      "78 : Senior Citizen\n",
      "34 : Adult\n",
      "56 : Adult\n",
      "12 : Minor\n",
      "9 : Minor\n",
      "43 : Adult\n",
      "67 : Senior Citizen\n"
     ]
    }
   ],
   "source": [
    "ages = [65,78,34,56,12,9,43,67]\n",
    "\n",
    "for age in ages:\n",
    "    if age < 18:\n",
    "        output = \"Minor\"\n",
    "    elif age >= 18 and age < 65:\n",
    "        output = \"Adult\"\n",
    "    else:\n",
    "        output = \"Senior Citizen\"\n",
    "    print(f\"{age} : {output}\")"
   ]
  },
  {
   "cell_type": "markdown",
   "id": "24c7ba93-793d-4cdb-8bce-d0d55347cc61",
   "metadata": {
    "tags": []
   },
   "source": [
    "### Problem 4 - Calculating Pi"
   ]
  },
  {
   "cell_type": "code",
   "execution_count": 33,
   "id": "a87f4a7e-ef46-41cd-a657-aa49fdeb6421",
   "metadata": {},
   "outputs": [
    {
     "name": "stdout",
     "output_type": "stream",
     "text": [
      "π=3.1611986129870506 using 100 terms.\n",
      "π=3.143588659585789 using 1000 terms.\n",
      "π=3.1417926135957908 using 10000 terms.\n",
      "π=3.141612653189785 using 100000 terms.\n",
      "π=3.1415946535856922 using 1000000 terms.\n"
     ]
    }
   ],
   "source": [
    "import math\n",
    "\n",
    "iterations_list = [100, 1000, 10000, 100000, 1000000]\n",
    "\n",
    "\n",
    "def estimate_pi():\n",
    "    pi_estimate = 0.0\n",
    "    for num_terms in iterations_list:\n",
    "        for n in range((int)(num_terms/2) + 1):\n",
    "            pi_estimate += 4 * ((-1) ** n) / (2*n +1)\n",
    "        print(f\"π={pi_estimate} using {num_terms} terms.\")\n",
    "        pi_estimate = 0.0    \n",
    "        \n",
    "estimate_pi()"
   ]
  }
 ],
 "metadata": {
  "kernelspec": {
   "display_name": "Python 3 (ipykernel)",
   "language": "python",
   "name": "python3"
  },
  "language_info": {
   "codemirror_mode": {
    "name": "ipython",
    "version": 3
   },
   "file_extension": ".py",
   "mimetype": "text/x-python",
   "name": "python",
   "nbconvert_exporter": "python",
   "pygments_lexer": "ipython3",
   "version": "3.11.5"
  }
 },
 "nbformat": 4,
 "nbformat_minor": 5
}
